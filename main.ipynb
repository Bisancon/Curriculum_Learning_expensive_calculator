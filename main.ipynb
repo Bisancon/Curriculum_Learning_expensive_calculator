{
 "cells": [
  {
   "cell_type": "code",
   "execution_count": 1,
   "metadata": {},
   "outputs": [],
   "source": [
    "import torch\n",
    "import torch.nn as nn\n",
    "import torch.optim as optim\n",
    "from torch.utils.data import DataLoader, Dataset\n",
    "from sklearn.model_selection import train_test_split\n",
    "from tqdm.notebook import tqdm\n",
    "import pandas as pd\n",
    "import matplotlib.pyplot as plt\n",
    "from DecoderTrans import DecoderTransformer\n",
    "from tokenizer import CurriculumTokenizer\n",
    "from torch.nn.utils.rnn import pad_sequence\n",
    "%matplotlib inline"
   ]
  },
  {
   "cell_type": "code",
   "execution_count": 2,
   "metadata": {},
   "outputs": [],
   "source": [
    "# Загружаем данные\n",
    "df = pd.read_csv('сurriculum_data.csv')\n",
    "\n",
    "# Разделение на тренировочный и тестовый наборы\n",
    "train_df, val_df = train_test_split(df, test_size=0.2, random_state=42)\n",
    "\n",
    "# Определение классов для работы с данными\n",
    "class ExpressionDataset(Dataset):\n",
    "    def __init__(self, df):\n",
    "        self.df = df\n",
    "        self.tokenizer = CurriculumTokenizer()\n",
    "\n",
    "    def __len__(self):\n",
    "        return len(self.df)\n",
    "\n",
    "    def __getitem__(self, idx):\n",
    "        row = self.df.iloc[idx]\n",
    "        expression = row['expression']\n",
    "        result = row['result']\n",
    "        \n",
    "        # Преобразуем метку, вычитая минимальное значение метки\n",
    "        result -= self.df['result'].min()  # Это приводит все метки к диапазону от 0 до N-1\n",
    "        \n",
    "        encoded_expression = self.tokenizer.encode(expression)\n",
    "        return encoded_expression, result\n",
    "\n",
    "\n",
    "# Создание объектов Dataset\n",
    "train_dataset = ExpressionDataset(train_df)\n",
    "val_dataset = ExpressionDataset(val_df)\n",
    "\n",
    "\n",
    "def collate_batch(batch):\n",
    "    expressions, results = zip(*batch)\n",
    "    \n",
    "    # Преобразуем каждое выражение в тензор\n",
    "    expressions = [torch.tensor(expr) for expr in expressions]\n",
    "    \n",
    "    # Получаем длину каждого выражения\n",
    "    lengths = [len(expr) for expr in expressions]\n",
    "    \n",
    "    # Паддим выражения\n",
    "    padded_expressions = pad_sequence(expressions, batch_first=True, padding_value=0)\n",
    "    \n",
    "    # Преобразуем результаты в тензор\n",
    "    results_tensor = torch.LongTensor(results)  # Тензор меток\n",
    "    \n",
    "    return padded_expressions, lengths, results_tensor\n",
    "\n",
    "\n",
    "\n",
    "# Создание DataLoader с использованием функции collate_batch\n",
    "train_loader = DataLoader(train_dataset, batch_size=32, shuffle=True, collate_fn=collate_batch)\n",
    "val_loader = DataLoader(val_dataset, batch_size=32, shuffle=False, collate_fn=collate_batch)"
   ]
  },
  {
   "cell_type": "code",
   "execution_count": 3,
   "metadata": {},
   "outputs": [
    {
     "name": "stdout",
     "output_type": "stream",
     "text": [
      "(tensor([[ 1, 13, 15,  3,  6,  3, 18, 12,  2,  0,  0,  0,  0,  0,  0,  0],\n",
      "        [ 1,  3, 19, 14,  3,  4,  3, 16, 14,  3,  3,  6,  3, 19, 12,  2],\n",
      "        [ 1, 19, 18,  7, 12,  2,  0,  0,  0,  0,  0,  0,  0,  0,  0,  0],\n",
      "        [ 1, 16, 19,  3,  6,  3, 15, 14,  2,  0,  0,  0,  0,  0,  0,  0],\n",
      "        [ 1,  3, 18,  3,  4,  3, 11, 13,  3,  3,  6,  3, 13, 12,  2,  0],\n",
      "        [ 1, 12, 12,  3,  6,  3, 17, 10,  2,  0,  0,  0,  0,  0,  0,  0],\n",
      "        [ 1,  3, 12, 17,  3,  4,  3, 12, 19,  3,  3,  6,  3, 15, 14,  2],\n",
      "        [ 1, 11, 15,  3,  6,  3, 19, 12,  2,  0,  0,  0,  0,  0,  0,  0],\n",
      "        [ 1, 19, 19,  7, 12,  2,  0,  0,  0,  0,  0,  0,  0,  0,  0,  0],\n",
      "        [ 1, 15, 15,  3,  4,  3, 12, 11,  2,  0,  0,  0,  0,  0,  0,  0],\n",
      "        [ 1, 19, 12,  7, 12,  2,  0,  0,  0,  0,  0,  0,  0,  0,  0,  0],\n",
      "        [ 1, 16, 17,  7, 12,  2,  0,  0,  0,  0,  0,  0,  0,  0,  0,  0],\n",
      "        [ 1, 14, 17,  3,  5,  3, 14, 13,  2,  0,  0,  0,  0,  0,  0,  0],\n",
      "        [ 1,  3, 17, 17,  3,  4,  3, 19, 18,  3,  3,  6,  3, 11, 19,  2],\n",
      "        [ 1, 15, 13,  3,  6,  3, 18, 11,  2,  0,  0,  0,  0,  0,  0,  0],\n",
      "        [ 1, 13, 15,  7, 12,  2,  0,  0,  0,  0,  0,  0,  0,  0,  0,  0],\n",
      "        [ 1, 19, 15,  3,  5,  3, 18, 18,  2,  0,  0,  0,  0,  0,  0,  0],\n",
      "        [ 1,  3, 14, 11,  3,  4,  3, 13, 19,  3,  3,  6,  3, 14, 16,  2],\n",
      "        [ 1, 13, 11,  3,  6,  3, 15, 18,  2,  0,  0,  0,  0,  0,  0,  0],\n",
      "        [ 1, 13, 12,  3,  4,  3, 12, 15,  2,  0,  0,  0,  0,  0,  0,  0],\n",
      "        [ 1, 18, 11,  3,  6,  3, 16, 15,  2,  0,  0,  0,  0,  0,  0,  0],\n",
      "        [ 1,  3, 19, 19,  3,  4,  3, 16, 18,  3,  3,  6,  3, 19, 19,  2],\n",
      "        [ 1, 12, 10,  7, 12,  2,  0,  0,  0,  0,  0,  0,  0,  0,  0,  0],\n",
      "        [ 1, 17, 16,  7, 12,  2,  0,  0,  0,  0,  0,  0,  0,  0,  0,  0],\n",
      "        [ 1, 18, 13,  3,  5,  3, 12, 16,  2,  0,  0,  0,  0,  0,  0,  0],\n",
      "        [ 1, 17, 11,  3,  6,  3, 18, 15,  2,  0,  0,  0,  0,  0,  0,  0],\n",
      "        [ 1, 18, 12,  3,  4,  3, 16, 11,  2,  0,  0,  0,  0,  0,  0,  0],\n",
      "        [ 1, 19, 12,  3,  4,  3, 11, 17,  2,  0,  0,  0,  0,  0,  0,  0],\n",
      "        [ 1, 14, 19,  3,  6,  3, 11, 17,  2,  0,  0,  0,  0,  0,  0,  0],\n",
      "        [ 1, 13, 17,  3,  6,  3, 12, 13,  2,  0,  0,  0,  0,  0,  0,  0],\n",
      "        [ 1, 16, 17,  3,  4,  3, 12, 16,  2,  0,  0,  0,  0,  0,  0,  0],\n",
      "        [ 1, 18, 17,  3,  5,  3, 13, 15,  2,  0,  0,  0,  0,  0,  0,  0]]), [9, 16, 6, 9, 15, 9, 16, 9, 6, 9, 6, 6, 9, 16, 9, 6, 9, 16, 9, 9, 9, 16, 6, 6, 9, 9, 9, 9, 9, 9, 9, 9], tensor([ 2870, 14536,  9604,  3726,   672,  1540,  3024,  1380,  9801,    76,\n",
      "         8464,  4489,     4,  3325,  4293,  1225,     7,  3680,  1798,    57,\n",
      "         5265, 16533,   400,  5776,    57,  6035,   143,   109,   833,   851,\n",
      "           93,    52]))\n"
     ]
    }
   ],
   "source": [
    "for batch in train_loader:\n",
    "    print(batch)  # Печатаем весь batch, чтобы понять его структуру\n",
    "    break  # Просто выводим первый батч, чтобы не выводить всё\n",
    "\n",
    "def collate_batch(batch):\n",
    "    expressions, results = zip(*batch)  # Разделяем выражения и результаты\n",
    "    \n",
    "    # Преобразуем каждое выражение в тензор\n",
    "    expressions = [torch.tensor(expr) for expr in expressions]\n",
    "    \n",
    "    # Получаем длину каждого выражения\n",
    "    lengths = [len(expr) for expr in expressions]  # Это можно использовать, если нужно\n",
    "    \n",
    "    # Паддим выражения\n",
    "    padded_expressions = pad_sequence(expressions, batch_first=True, padding_value=0)\n",
    "    \n",
    "    # Преобразуем результаты в тензор\n",
    "    results_tensor = torch.LongTensor(results)  # Тензор меток\n",
    "    \n",
    "    return padded_expressions, results_tensor\n",
    "\n",
    "# Создаем DataLoader с collate_fn\n",
    "train_loader = DataLoader(train_dataset, batch_size=32, shuffle=True, collate_fn=collate_batch)\n"
   ]
  },
  {
   "cell_type": "code",
   "execution_count": 4,
   "metadata": {},
   "outputs": [],
   "source": [
    "device = torch.device(\"cuda\" if torch.cuda.is_available() else \"cpu\")\n",
    "# model = DecoderTransformer(num_tokens=20, n_embd=128, num_layers=6, num_heads=8, num_classes=10).to(device)\n",
    "num_classes = df['result'].max() - df['result'].min() + 1  # Подсчитываем количество классов\n",
    "model = DecoderTransformer(num_tokens=20, n_embd=128, num_layers=6, num_heads=8, num_classes=num_classes).to(device)\n",
    "optimizer = optim.Adam(model.parameters(), lr=1e-3)\n",
    "criterion = nn.CrossEntropyLoss()"
   ]
  },
  {
   "cell_type": "code",
   "execution_count": 5,
   "metadata": {},
   "outputs": [],
   "source": [
    "def train_epoch(model, loader, optimizer, criterion, device):\n",
    "    model.train()\n",
    "    total_loss = 0\n",
    "    correct = 0\n",
    "    total = 0\n",
    "    pbar = tqdm(loader, desc=\"Training\")\n",
    "    for inputs, targets in pbar:\n",
    "        inputs = inputs.to(device)\n",
    "        targets = targets.to(device)\n",
    "\n",
    "        optimizer.zero_grad()\n",
    "        outputs = model(inputs)\n",
    "        \n",
    "        # Если задача классификации, то выход имеет размерность [batch_size, num_classes]\n",
    "        loss = criterion(outputs, targets)\n",
    "        loss.backward()\n",
    "        optimizer.step()\n",
    "        \n",
    "        total_loss += loss.item()\n",
    "        _, predicted = torch.max(outputs.data, 1)\n",
    "        total += targets.size(0)\n",
    "        correct += (predicted == targets).sum().item()\n",
    "        pbar.set_postfix(loss=loss.item())\n",
    "        \n",
    "    accuracy = 100 * correct / total\n",
    "    epoch_loss = total_loss / len(loader)\n",
    "    return epoch_loss, accuracy\n"
   ]
  },
  {
   "cell_type": "code",
   "execution_count": 6,
   "metadata": {},
   "outputs": [],
   "source": [
    "def evaluate(model, loader, criterion, device):\n",
    "    model.eval()\n",
    "    total_loss = 0\n",
    "    correct = 0\n",
    "    total = 0\n",
    "    with torch.no_grad():\n",
    "        pbar = tqdm(loader, desc=\"Evaluating\")\n",
    "        for inputs, lengths, targets in pbar:  # Теперь распаковываем три значения\n",
    "            inputs = inputs.to(device)\n",
    "            targets = targets.to(device)\n",
    "            outputs = model(inputs)\n",
    "            loss = criterion(outputs, targets)\n",
    "            total_loss += loss.item()\n",
    "            _, predicted = torch.max(outputs.data, 1)\n",
    "            total += targets.size(0)\n",
    "            correct += (predicted == targets).sum().item()\n",
    "            pbar.set_postfix(loss=loss.item())\n",
    "    accuracy = 100 * correct / total\n",
    "    epoch_loss = total_loss / len(loader)\n",
    "    return epoch_loss, accuracy\n"
   ]
  },
  {
   "cell_type": "code",
   "execution_count": 7,
   "metadata": {},
   "outputs": [
    {
     "name": "stdout",
     "output_type": "stream",
     "text": [
      "\n",
      "Epoch 1/10\n"
     ]
    },
    {
     "data": {
      "application/vnd.jupyter.widget-view+json": {
       "model_id": "1c719011c96c447da9d21e3622d24798",
       "version_major": 2,
       "version_minor": 0
      },
      "text/plain": [
       "Training:   0%|          | 0/182 [00:00<?, ?it/s]"
      ]
     },
     "metadata": {},
     "output_type": "display_data"
    },
    {
     "data": {
      "application/vnd.jupyter.widget-view+json": {
       "model_id": "d742ef60587b4e5187f47124c677cbb6",
       "version_major": 2,
       "version_minor": 0
      },
      "text/plain": [
       "Evaluating:   0%|          | 0/46 [00:00<?, ?it/s]"
      ]
     },
     "metadata": {},
     "output_type": "display_data"
    },
    {
     "name": "stdout",
     "output_type": "stream",
     "text": [
      "Train Loss: 8.1712, Train Acc: 0.29%\n",
      "Val Loss: 7.4797, Val Acc: 0.27%\n",
      "\n",
      "Epoch 2/10\n"
     ]
    },
    {
     "data": {
      "application/vnd.jupyter.widget-view+json": {
       "model_id": "1f673c96902d424ea0bdea9ae98e6a87",
       "version_major": 2,
       "version_minor": 0
      },
      "text/plain": [
       "Training:   0%|          | 0/182 [00:00<?, ?it/s]"
      ]
     },
     "metadata": {},
     "output_type": "display_data"
    },
    {
     "data": {
      "application/vnd.jupyter.widget-view+json": {
       "model_id": "f33d7628efd64815b5f24fd6ea0fc747",
       "version_major": 2,
       "version_minor": 0
      },
      "text/plain": [
       "Evaluating:   0%|          | 0/46 [00:00<?, ?it/s]"
      ]
     },
     "metadata": {},
     "output_type": "display_data"
    },
    {
     "name": "stdout",
     "output_type": "stream",
     "text": [
      "Train Loss: 6.7559, Train Acc: 0.38%\n",
      "Val Loss: 7.6381, Val Acc: 0.27%\n",
      "\n",
      "Epoch 3/10\n"
     ]
    },
    {
     "data": {
      "application/vnd.jupyter.widget-view+json": {
       "model_id": "7ae41898a8824b4eab007c714ecb432f",
       "version_major": 2,
       "version_minor": 0
      },
      "text/plain": [
       "Training:   0%|          | 0/182 [00:00<?, ?it/s]"
      ]
     },
     "metadata": {},
     "output_type": "display_data"
    },
    {
     "data": {
      "application/vnd.jupyter.widget-view+json": {
       "model_id": "1e3bfce55aea4e5a8b23204d95f05e6e",
       "version_major": 2,
       "version_minor": 0
      },
      "text/plain": [
       "Evaluating:   0%|          | 0/46 [00:00<?, ?it/s]"
      ]
     },
     "metadata": {},
     "output_type": "display_data"
    },
    {
     "name": "stdout",
     "output_type": "stream",
     "text": [
      "Train Loss: 6.6105, Train Acc: 0.40%\n",
      "Val Loss: 7.6961, Val Acc: 0.27%\n",
      "\n",
      "Epoch 4/10\n"
     ]
    },
    {
     "data": {
      "application/vnd.jupyter.widget-view+json": {
       "model_id": "7593a98755a64b33a470d24a6c505255",
       "version_major": 2,
       "version_minor": 0
      },
      "text/plain": [
       "Training:   0%|          | 0/182 [00:00<?, ?it/s]"
      ]
     },
     "metadata": {},
     "output_type": "display_data"
    },
    {
     "data": {
      "application/vnd.jupyter.widget-view+json": {
       "model_id": "7d19ce52ee454f5cb33c30d013af54c8",
       "version_major": 2,
       "version_minor": 0
      },
      "text/plain": [
       "Evaluating:   0%|          | 0/46 [00:00<?, ?it/s]"
      ]
     },
     "metadata": {},
     "output_type": "display_data"
    },
    {
     "name": "stdout",
     "output_type": "stream",
     "text": [
      "Train Loss: 6.5511, Train Acc: 0.45%\n",
      "Val Loss: 7.7505, Val Acc: 0.82%\n",
      "\n",
      "Epoch 5/10\n"
     ]
    },
    {
     "data": {
      "application/vnd.jupyter.widget-view+json": {
       "model_id": "9e1f86dab08140e6b33ce2b70231c1d0",
       "version_major": 2,
       "version_minor": 0
      },
      "text/plain": [
       "Training:   0%|          | 0/182 [00:00<?, ?it/s]"
      ]
     },
     "metadata": {},
     "output_type": "display_data"
    },
    {
     "data": {
      "application/vnd.jupyter.widget-view+json": {
       "model_id": "1d2b844c284b4b5c9ab8bb5ee0fc87a4",
       "version_major": 2,
       "version_minor": 0
      },
      "text/plain": [
       "Evaluating:   0%|          | 0/46 [00:00<?, ?it/s]"
      ]
     },
     "metadata": {},
     "output_type": "display_data"
    },
    {
     "name": "stdout",
     "output_type": "stream",
     "text": [
      "Train Loss: 6.5210, Train Acc: 0.41%\n",
      "Val Loss: 7.8098, Val Acc: 0.48%\n",
      "\n",
      "Epoch 6/10\n"
     ]
    },
    {
     "data": {
      "application/vnd.jupyter.widget-view+json": {
       "model_id": "10458c6b6aa4430e87ca3b36d045ba01",
       "version_major": 2,
       "version_minor": 0
      },
      "text/plain": [
       "Training:   0%|          | 0/182 [00:00<?, ?it/s]"
      ]
     },
     "metadata": {},
     "output_type": "display_data"
    },
    {
     "data": {
      "application/vnd.jupyter.widget-view+json": {
       "model_id": "8670ab490a174f89bf09079f77e583df",
       "version_major": 2,
       "version_minor": 0
      },
      "text/plain": [
       "Evaluating:   0%|          | 0/46 [00:00<?, ?it/s]"
      ]
     },
     "metadata": {},
     "output_type": "display_data"
    },
    {
     "name": "stdout",
     "output_type": "stream",
     "text": [
      "Train Loss: 6.5056, Train Acc: 0.45%\n",
      "Val Loss: 7.8093, Val Acc: 0.48%\n",
      "\n",
      "Epoch 7/10\n"
     ]
    },
    {
     "data": {
      "application/vnd.jupyter.widget-view+json": {
       "model_id": "cca2691021654f2aabbb04e78e0cbc91",
       "version_major": 2,
       "version_minor": 0
      },
      "text/plain": [
       "Training:   0%|          | 0/182 [00:00<?, ?it/s]"
      ]
     },
     "metadata": {},
     "output_type": "display_data"
    },
    {
     "data": {
      "application/vnd.jupyter.widget-view+json": {
       "model_id": "facdeb9f4a6b4295983c3d668484c991",
       "version_major": 2,
       "version_minor": 0
      },
      "text/plain": [
       "Evaluating:   0%|          | 0/46 [00:00<?, ?it/s]"
      ]
     },
     "metadata": {},
     "output_type": "display_data"
    },
    {
     "name": "stdout",
     "output_type": "stream",
     "text": [
      "Train Loss: 6.4888, Train Acc: 0.36%\n",
      "Val Loss: 7.8996, Val Acc: 0.55%\n",
      "\n",
      "Epoch 8/10\n"
     ]
    },
    {
     "data": {
      "application/vnd.jupyter.widget-view+json": {
       "model_id": "7ed62eef402d4089a7bafc7a3dafa5f8",
       "version_major": 2,
       "version_minor": 0
      },
      "text/plain": [
       "Training:   0%|          | 0/182 [00:00<?, ?it/s]"
      ]
     },
     "metadata": {},
     "output_type": "display_data"
    },
    {
     "data": {
      "application/vnd.jupyter.widget-view+json": {
       "model_id": "223dee26556d466689522b254e9c8db5",
       "version_major": 2,
       "version_minor": 0
      },
      "text/plain": [
       "Evaluating:   0%|          | 0/46 [00:00<?, ?it/s]"
      ]
     },
     "metadata": {},
     "output_type": "display_data"
    },
    {
     "name": "stdout",
     "output_type": "stream",
     "text": [
      "Train Loss: 6.4747, Train Acc: 0.38%\n",
      "Val Loss: 7.8660, Val Acc: 0.69%\n",
      "\n",
      "Epoch 9/10\n"
     ]
    },
    {
     "data": {
      "application/vnd.jupyter.widget-view+json": {
       "model_id": "f682209876e64e698f77b8992dac47de",
       "version_major": 2,
       "version_minor": 0
      },
      "text/plain": [
       "Training:   0%|          | 0/182 [00:00<?, ?it/s]"
      ]
     },
     "metadata": {},
     "output_type": "display_data"
    },
    {
     "data": {
      "application/vnd.jupyter.widget-view+json": {
       "model_id": "266efef647d54d2ea99781d1635c8936",
       "version_major": 2,
       "version_minor": 0
      },
      "text/plain": [
       "Evaluating:   0%|          | 0/46 [00:00<?, ?it/s]"
      ]
     },
     "metadata": {},
     "output_type": "display_data"
    },
    {
     "name": "stdout",
     "output_type": "stream",
     "text": [
      "Train Loss: 6.4666, Train Acc: 0.53%\n",
      "Val Loss: 7.8754, Val Acc: 0.82%\n",
      "\n",
      "Epoch 10/10\n"
     ]
    },
    {
     "data": {
      "application/vnd.jupyter.widget-view+json": {
       "model_id": "adc0d35d108a4f6db1156e9bca5f7c2e",
       "version_major": 2,
       "version_minor": 0
      },
      "text/plain": [
       "Training:   0%|          | 0/182 [00:00<?, ?it/s]"
      ]
     },
     "metadata": {},
     "output_type": "display_data"
    },
    {
     "data": {
      "application/vnd.jupyter.widget-view+json": {
       "model_id": "849429747bb4449fab137c3bca56d979",
       "version_major": 2,
       "version_minor": 0
      },
      "text/plain": [
       "Evaluating:   0%|          | 0/46 [00:00<?, ?it/s]"
      ]
     },
     "metadata": {},
     "output_type": "display_data"
    },
    {
     "name": "stdout",
     "output_type": "stream",
     "text": [
      "Train Loss: 6.4696, Train Acc: 0.34%\n",
      "Val Loss: 7.8749, Val Acc: 0.34%\n"
     ]
    }
   ],
   "source": [
    "epochs = 10\n",
    "train_losses, train_accs = [], []\n",
    "val_losses, val_accs = [], []\n",
    "\n",
    "for epoch in range(epochs):\n",
    "    print(f\"\\nEpoch {epoch+1}/{epochs}\")\n",
    "    train_loss, train_acc = train_epoch(model, train_loader, optimizer, criterion, device)\n",
    "    val_loss, val_acc = evaluate(model, val_loader, criterion, device)\n",
    "    train_losses.append(train_loss)\n",
    "    train_accs.append(train_acc)\n",
    "    val_losses.append(val_loss)\n",
    "    val_accs.append(val_acc)\n",
    "    print(f\"Train Loss: {train_loss:.4f}, Train Acc: {train_acc:.2f}%\")\n",
    "    print(f\"Val Loss: {val_loss:.4f}, Val Acc: {val_acc:.2f}%\")"
   ]
  },
  {
   "cell_type": "code",
   "execution_count": 8,
   "metadata": {},
   "outputs": [
    {
     "data": {
      "image/png": "[encoded data removed]",
      "text/plain": [
       "<Figure size 1200x600 with 2 Axes>"
      ]
     },
     "metadata": {},
     "output_type": "display_data"
    }
   ],
   "source": [
    "plt.figure(figsize=(12, 6))\n",
    "plt.subplot(121)\n",
    "plt.plot(range(1, epochs+1), train_losses, label='Train Loss')\n",
    "plt.plot(range(1, epochs+1), val_losses, label='Val Loss')\n",
    "plt.xlabel('Epochs')\n",
    "plt.ylabel('Loss')\n",
    "plt.legend()\n",
    "plt.title('Loss vs Epochs')\n",
    "\n",
    "plt.subplot(122)\n",
    "plt.plot(range(1, epochs+1), train_accs, label='Train Accuracy')\n",
    "plt.plot(range(1, epochs+1), val_accs, label='Val Accuracy')\n",
    "plt.xlabel('Epochs')\n",
    "plt.ylabel('Accuracy (%)')\n",
    "plt.legend()\n",
    "plt.title('Accuracy vs Epochs')\n",
    "plt.show()"
   ]
  },
  {
   "cell_type": "code",
   "execution_count": 9,
   "metadata": {},
   "outputs": [
    {
     "name": "stdout",
     "output_type": "stream",
     "text": [
      "\n",
      "Random Sampling Epoch 1/10\n"
     ]
    },
    {
     "data": {
      "application/vnd.jupyter.widget-view+json": {
       "model_id": "2f7171fb05cb4088a5c87f6c69658e50",
       "version_major": 2,
       "version_minor": 0
      },
      "text/plain": [
       "Training:   0%|          | 0/182 [00:00<?, ?it/s]"
      ]
     },
     "metadata": {},
     "output_type": "display_data"
    },
    {
     "data": {
      "application/vnd.jupyter.widget-view+json": {
       "model_id": "4f7f559c2d8c4f23a4a8ec6f3c4b3667",
       "version_major": 2,
       "version_minor": 0
      },
      "text/plain": [
       "Evaluating:   0%|          | 0/46 [00:00<?, ?it/s]"
      ]
     },
     "metadata": {},
     "output_type": "display_data"
    },
    {
     "name": "stdout",
     "output_type": "stream",
     "text": [
      "Train Loss: 6.4497, Train Acc: 0.41%\n",
      "Val Loss: 7.8841, Val Acc: 0.82%\n",
      "\n",
      "Random Sampling Epoch 2/10\n"
     ]
    },
    {
     "data": {
      "application/vnd.jupyter.widget-view+json": {
       "model_id": "0b2ce9d1f8634932ada8ecfe0b1d50d6",
       "version_major": 2,
       "version_minor": 0
      },
      "text/plain": [
       "Training:   0%|          | 0/182 [00:00<?, ?it/s]"
      ]
     },
     "metadata": {},
     "output_type": "display_data"
    },
    {
     "data": {
      "application/vnd.jupyter.widget-view+json": {
       "model_id": "10e0f5dcd57940b5914217e8a90e1671",
       "version_major": 2,
       "version_minor": 0
      },
      "text/plain": [
       "Evaluating:   0%|          | 0/46 [00:00<?, ?it/s]"
      ]
     },
     "metadata": {},
     "output_type": "display_data"
    },
    {
     "name": "stdout",
     "output_type": "stream",
     "text": [
      "Train Loss: 6.4472, Train Acc: 0.57%\n",
      "Val Loss: 7.9801, Val Acc: 0.82%\n",
      "\n",
      "Random Sampling Epoch 3/10\n"
     ]
    },
    {
     "data": {
      "application/vnd.jupyter.widget-view+json": {
       "model_id": "f1ed47373ef748a8b7a600f1f341f2fa",
       "version_major": 2,
       "version_minor": 0
      },
      "text/plain": [
       "Training:   0%|          | 0/182 [00:00<?, ?it/s]"
      ]
     },
     "metadata": {},
     "output_type": "display_data"
    },
    {
     "data": {
      "application/vnd.jupyter.widget-view+json": {
       "model_id": "ef217aa41e2d4e54b69297c55a009a81",
       "version_major": 2,
       "version_minor": 0
      },
      "text/plain": [
       "Evaluating:   0%|          | 0/46 [00:00<?, ?it/s]"
      ]
     },
     "metadata": {},
     "output_type": "display_data"
    },
    {
     "name": "stdout",
     "output_type": "stream",
     "text": [
      "Train Loss: 6.4398, Train Acc: 0.46%\n",
      "Val Loss: 7.9516, Val Acc: 0.82%\n",
      "\n",
      "Random Sampling Epoch 4/10\n"
     ]
    },
    {
     "data": {
      "application/vnd.jupyter.widget-view+json": {
       "model_id": "308cc94986d24387a862d98770d3daa2",
       "version_major": 2,
       "version_minor": 0
      },
      "text/plain": [
       "Training:   0%|          | 0/182 [00:00<?, ?it/s]"
      ]
     },
     "metadata": {},
     "output_type": "display_data"
    },
    {
     "data": {
      "application/vnd.jupyter.widget-view+json": {
       "model_id": "f11531fac2af4a288be39a486ae3abc0",
       "version_major": 2,
       "version_minor": 0
      },
      "text/plain": [
       "Evaluating:   0%|          | 0/46 [00:00<?, ?it/s]"
      ]
     },
     "metadata": {},
     "output_type": "display_data"
    },
    {
     "name": "stdout",
     "output_type": "stream",
     "text": [
      "Train Loss: 6.4317, Train Acc: 0.57%\n",
      "Val Loss: 7.9702, Val Acc: 0.69%\n",
      "\n",
      "Random Sampling Epoch 5/10\n"
     ]
    },
    {
     "data": {
      "application/vnd.jupyter.widget-view+json": {
       "model_id": "3d673ecbee2e4c9384c1d6badd2e42e3",
       "version_major": 2,
       "version_minor": 0
      },
      "text/plain": [
       "Training:   0%|          | 0/182 [00:00<?, ?it/s]"
      ]
     },
     "metadata": {},
     "output_type": "display_data"
    },
    {
     "data": {
      "application/vnd.jupyter.widget-view+json": {
       "model_id": "d8d6a25da632448f9fcfe09a57fa2ec5",
       "version_major": 2,
       "version_minor": 0
      },
      "text/plain": [
       "Evaluating:   0%|          | 0/46 [00:00<?, ?it/s]"
      ]
     },
     "metadata": {},
     "output_type": "display_data"
    },
    {
     "name": "stdout",
     "output_type": "stream",
     "text": [
      "Train Loss: 6.4306, Train Acc: 0.50%\n",
      "Val Loss: 8.0205, Val Acc: 0.82%\n",
      "\n",
      "Random Sampling Epoch 6/10\n"
     ]
    },
    {
     "data": {
      "application/vnd.jupyter.widget-view+json": {
       "model_id": "623eeac0d0e44b0da392828b208594ec",
       "version_major": 2,
       "version_minor": 0
      },
      "text/plain": [
       "Training:   0%|          | 0/182 [00:00<?, ?it/s]"
      ]
     },
     "metadata": {},
     "output_type": "display_data"
    },
    {
     "data": {
      "application/vnd.jupyter.widget-view+json": {
       "model_id": "2875b8e40822463c88491e38e7561b45",
       "version_major": 2,
       "version_minor": 0
      },
      "text/plain": [
       "Evaluating:   0%|          | 0/46 [00:00<?, ?it/s]"
      ]
     },
     "metadata": {},
     "output_type": "display_data"
    },
    {
     "name": "stdout",
     "output_type": "stream",
     "text": [
      "Train Loss: 6.4267, Train Acc: 0.48%\n",
      "Val Loss: 8.0018, Val Acc: 0.82%\n",
      "\n",
      "Random Sampling Epoch 7/10\n"
     ]
    },
    {
     "data": {
      "application/vnd.jupyter.widget-view+json": {
       "model_id": "21d5a4084e644e369f9bc8983afa39c7",
       "version_major": 2,
       "version_minor": 0
      },
      "text/plain": [
       "Training:   0%|          | 0/182 [00:00<?, ?it/s]"
      ]
     },
     "metadata": {},
     "output_type": "display_data"
    },
    {
     "data": {
      "application/vnd.jupyter.widget-view+json": {
       "model_id": "be9badd63de64fdabf34e3c157851533",
       "version_major": 2,
       "version_minor": 0
      },
      "text/plain": [
       "Evaluating:   0%|          | 0/46 [00:00<?, ?it/s]"
      ]
     },
     "metadata": {},
     "output_type": "display_data"
    },
    {
     "name": "stdout",
     "output_type": "stream",
     "text": [
      "Train Loss: 6.8236, Train Acc: 0.53%\n",
      "Val Loss: 8.4410, Val Acc: 0.48%\n",
      "\n",
      "Random Sampling Epoch 8/10\n"
     ]
    },
    {
     "data": {
      "application/vnd.jupyter.widget-view+json": {
       "model_id": "99f5868fa92e4bbcb1371604f3f645ff",
       "version_major": 2,
       "version_minor": 0
      },
      "text/plain": [
       "Training:   0%|          | 0/182 [00:00<?, ?it/s]"
      ]
     },
     "metadata": {},
     "output_type": "display_data"
    },
    {
     "data": {
      "application/vnd.jupyter.widget-view+json": {
       "model_id": "9c1265b323fd4968b64dec6fa6f611a9",
       "version_major": 2,
       "version_minor": 0
      },
      "text/plain": [
       "Evaluating:   0%|          | 0/46 [00:00<?, ?it/s]"
      ]
     },
     "metadata": {},
     "output_type": "display_data"
    },
    {
     "name": "stdout",
     "output_type": "stream",
     "text": [
      "Train Loss: 7.0752, Train Acc: 0.50%\n",
      "Val Loss: 8.3989, Val Acc: 0.69%\n",
      "\n",
      "Random Sampling Epoch 9/10\n"
     ]
    },
    {
     "data": {
      "application/vnd.jupyter.widget-view+json": {
       "model_id": "d1f0a671f75042b69ab7804a04eee004",
       "version_major": 2,
       "version_minor": 0
      },
      "text/plain": [
       "Training:   0%|          | 0/182 [00:00<?, ?it/s]"
      ]
     },
     "metadata": {},
     "output_type": "display_data"
    },
    {
     "data": {
      "application/vnd.jupyter.widget-view+json": {
       "model_id": "c88baba127e746948f5962e6b7fac52a",
       "version_major": 2,
       "version_minor": 0
      },
      "text/plain": [
       "Evaluating:   0%|          | 0/46 [00:00<?, ?it/s]"
      ]
     },
     "metadata": {},
     "output_type": "display_data"
    },
    {
     "name": "stdout",
     "output_type": "stream",
     "text": [
      "Train Loss: 7.0372, Train Acc: 0.53%\n",
      "Val Loss: 8.5324, Val Acc: 0.48%\n",
      "\n",
      "Random Sampling Epoch 10/10\n"
     ]
    },
    {
     "data": {
      "application/vnd.jupyter.widget-view+json": {
       "model_id": "4f8d7e558b904c0895f89f4133bdc0b8",
       "version_major": 2,
       "version_minor": 0
      },
      "text/plain": [
       "Training:   0%|          | 0/182 [00:00<?, ?it/s]"
      ]
     },
     "metadata": {},
     "output_type": "display_data"
    },
    {
     "data": {
      "application/vnd.jupyter.widget-view+json": {
       "model_id": "e9aad1e381044bbe940545a97b15119c",
       "version_major": 2,
       "version_minor": 0
      },
      "text/plain": [
       "Evaluating:   0%|          | 0/46 [00:00<?, ?it/s]"
      ]
     },
     "metadata": {},
     "output_type": "display_data"
    },
    {
     "name": "stdout",
     "output_type": "stream",
     "text": [
      "Train Loss: 7.0241, Train Acc: 0.52%\n",
      "Val Loss: 8.4729, Val Acc: 0.48%\n",
      "\n",
      "Curriculum Learning Epoch 1/10\n"
     ]
    },
    {
     "data": {
      "application/vnd.jupyter.widget-view+json": {
       "model_id": "92414e43f36147f9b7fe46c616b49cd4",
       "version_major": 2,
       "version_minor": 0
      },
      "text/plain": [
       "Training:   0%|          | 0/182 [00:00<?, ?it/s]"
      ]
     },
     "metadata": {},
     "output_type": "display_data"
    },
    {
     "data": {
      "application/vnd.jupyter.widget-view+json": {
       "model_id": "f3fa3f00f06a4b8f8cc273ac33fb35be",
       "version_major": 2,
       "version_minor": 0
      },
      "text/plain": [
       "Evaluating:   0%|          | 0/46 [00:00<?, ?it/s]"
      ]
     },
     "metadata": {},
     "output_type": "display_data"
    },
    {
     "name": "stdout",
     "output_type": "stream",
     "text": [
      "Train Loss: 7.0227, Train Acc: 0.48%\n",
      "Val Loss: 8.5122, Val Acc: 0.48%\n",
      "\n",
      "Curriculum Learning Epoch 2/10\n"
     ]
    },
    {
     "data": {
      "application/vnd.jupyter.widget-view+json": {
       "model_id": "9a116c37320c44d9928df605b8587319",
       "version_major": 2,
       "version_minor": 0
      },
      "text/plain": [
       "Training:   0%|          | 0/182 [00:00<?, ?it/s]"
      ]
     },
     "metadata": {},
     "output_type": "display_data"
    },
    {
     "data": {
      "application/vnd.jupyter.widget-view+json": {
       "model_id": "5e81f1dc178949db8b9e6bab946ea781",
       "version_major": 2,
       "version_minor": 0
      },
      "text/plain": [
       "Evaluating:   0%|          | 0/46 [00:00<?, ?it/s]"
      ]
     },
     "metadata": {},
     "output_type": "display_data"
    },
    {
     "name": "stdout",
     "output_type": "stream",
     "text": [
      "Train Loss: 7.0144, Train Acc: 0.43%\n",
      "Val Loss: 8.5108, Val Acc: 0.48%\n",
      "\n",
      "Curriculum Learning Epoch 3/10\n"
     ]
    },
    {
     "data": {
      "application/vnd.jupyter.widget-view+json": {
       "model_id": "eed47fdf7cd94f10aecbc4532c6bd632",
       "version_major": 2,
       "version_minor": 0
      },
      "text/plain": [
       "Training:   0%|          | 0/182 [00:00<?, ?it/s]"
      ]
     },
     "metadata": {},
     "output_type": "display_data"
    },
    {
     "data": {
      "application/vnd.jupyter.widget-view+json": {
       "model_id": "8b42d68725d541cb823dc663ad95407f",
       "version_major": 2,
       "version_minor": 0
      },
      "text/plain": [
       "Evaluating:   0%|          | 0/46 [00:00<?, ?it/s]"
      ]
     },
     "metadata": {},
     "output_type": "display_data"
    },
    {
     "name": "stdout",
     "output_type": "stream",
     "text": [
      "Train Loss: 7.0118, Train Acc: 0.50%\n",
      "Val Loss: 8.5805, Val Acc: 0.69%\n",
      "\n",
      "Curriculum Learning Epoch 4/10\n"
     ]
    },
    {
     "data": {
      "application/vnd.jupyter.widget-view+json": {
       "model_id": "656ef7856e5f432685880af345caad4e",
       "version_major": 2,
       "version_minor": 0
      },
      "text/plain": [
       "Training:   0%|          | 0/182 [00:00<?, ?it/s]"
      ]
     },
     "metadata": {},
     "output_type": "display_data"
    },
    {
     "data": {
      "application/vnd.jupyter.widget-view+json": {
       "model_id": "8b96306b832e4ed9a32f8a252e031f86",
       "version_major": 2,
       "version_minor": 0
      },
      "text/plain": [
       "Evaluating:   0%|          | 0/46 [00:00<?, ?it/s]"
      ]
     },
     "metadata": {},
     "output_type": "display_data"
    },
    {
     "name": "stdout",
     "output_type": "stream",
     "text": [
      "Train Loss: 6.9806, Train Acc: 0.41%\n",
      "Val Loss: 8.5674, Val Acc: 0.48%\n",
      "\n",
      "Curriculum Learning Epoch 5/10\n"
     ]
    },
    {
     "data": {
      "application/vnd.jupyter.widget-view+json": {
       "model_id": "bde1dd07ba1345b4a6f69b108e49023f",
       "version_major": 2,
       "version_minor": 0
      },
      "text/plain": [
       "Training:   0%|          | 0/182 [00:00<?, ?it/s]"
      ]
     },
     "metadata": {},
     "output_type": "display_data"
    },
    {
     "data": {
      "application/vnd.jupyter.widget-view+json": {
       "model_id": "9513364776194f6991c8ece6fc1c44b5",
       "version_major": 2,
       "version_minor": 0
      },
      "text/plain": [
       "Evaluating:   0%|          | 0/46 [00:00<?, ?it/s]"
      ]
     },
     "metadata": {},
     "output_type": "display_data"
    },
    {
     "name": "stdout",
     "output_type": "stream",
     "text": [
      "Train Loss: 6.9055, Train Acc: 0.40%\n",
      "Val Loss: 8.7357, Val Acc: 0.07%\n",
      "\n",
      "Curriculum Learning Epoch 6/10\n"
     ]
    },
    {
     "data": {
      "application/vnd.jupyter.widget-view+json": {
       "model_id": "d2e563c09a6645fd9baf0efeb6e397d3",
       "version_major": 2,
       "version_minor": 0
      },
      "text/plain": [
       "Training:   0%|          | 0/182 [00:00<?, ?it/s]"
      ]
     },
     "metadata": {},
     "output_type": "display_data"
    },
    {
     "data": {
      "application/vnd.jupyter.widget-view+json": {
       "model_id": "8bcf543791c24fe985f532e64d65939f",
       "version_major": 2,
       "version_minor": 0
      },
      "text/plain": [
       "Evaluating:   0%|          | 0/46 [00:00<?, ?it/s]"
      ]
     },
     "metadata": {},
     "output_type": "display_data"
    },
    {
     "name": "stdout",
     "output_type": "stream",
     "text": [
      "Train Loss: 6.8443, Train Acc: 0.43%\n",
      "Val Loss: 8.8836, Val Acc: 0.48%\n",
      "\n",
      "Curriculum Learning Epoch 7/10\n"
     ]
    },
    {
     "data": {
      "application/vnd.jupyter.widget-view+json": {
       "model_id": "a018096f91374f52a1d672e4deca9444",
       "version_major": 2,
       "version_minor": 0
      },
      "text/plain": [
       "Training:   0%|          | 0/182 [00:00<?, ?it/s]"
      ]
     },
     "metadata": {},
     "output_type": "display_data"
    },
    {
     "data": {
      "application/vnd.jupyter.widget-view+json": {
       "model_id": "2481c4bfd6d54ba7b251bc7814986dbd",
       "version_major": 2,
       "version_minor": 0
      },
      "text/plain": [
       "Evaluating:   0%|          | 0/46 [00:00<?, ?it/s]"
      ]
     },
     "metadata": {},
     "output_type": "display_data"
    },
    {
     "name": "stdout",
     "output_type": "stream",
     "text": [
      "Train Loss: 6.7765, Train Acc: 0.46%\n",
      "Val Loss: 9.0753, Val Acc: 0.48%\n",
      "\n",
      "Curriculum Learning Epoch 8/10\n"
     ]
    },
    {
     "data": {
      "application/vnd.jupyter.widget-view+json": {
       "model_id": "f6784d14907c49339dd8b71382519828",
       "version_major": 2,
       "version_minor": 0
      },
      "text/plain": [
       "Training:   0%|          | 0/182 [00:00<?, ?it/s]"
      ]
     },
     "metadata": {},
     "output_type": "display_data"
    },
    {
     "data": {
      "application/vnd.jupyter.widget-view+json": {
       "model_id": "ab029df4a5aa4a2b838198b568410967",
       "version_major": 2,
       "version_minor": 0
      },
      "text/plain": [
       "Evaluating:   0%|          | 0/46 [00:00<?, ?it/s]"
      ]
     },
     "metadata": {},
     "output_type": "display_data"
    },
    {
     "name": "stdout",
     "output_type": "stream",
     "text": [
      "Train Loss: 6.7319, Train Acc: 0.50%\n",
      "Val Loss: 9.1720, Val Acc: 0.48%\n",
      "\n",
      "Curriculum Learning Epoch 9/10\n"
     ]
    },
    {
     "data": {
      "application/vnd.jupyter.widget-view+json": {
       "model_id": "ca6baaca892044e1920c8639f67c5a43",
       "version_major": 2,
       "version_minor": 0
      },
      "text/plain": [
       "Training:   0%|          | 0/182 [00:00<?, ?it/s]"
      ]
     },
     "metadata": {},
     "output_type": "display_data"
    },
    {
     "data": {
      "application/vnd.jupyter.widget-view+json": {
       "model_id": "011dc24f8c66403395fd211f065d5672",
       "version_major": 2,
       "version_minor": 0
      },
      "text/plain": [
       "Evaluating:   0%|          | 0/46 [00:00<?, ?it/s]"
      ]
     },
     "metadata": {},
     "output_type": "display_data"
    },
    {
     "name": "stdout",
     "output_type": "stream",
     "text": [
      "Train Loss: 6.6986, Train Acc: 0.55%\n",
      "Val Loss: 9.3758, Val Acc: 0.48%\n",
      "\n",
      "Curriculum Learning Epoch 10/10\n"
     ]
    },
    {
     "data": {
      "application/vnd.jupyter.widget-view+json": {
       "model_id": "0c3c0e57c6f14b61b012547b1c3e2a2f",
       "version_major": 2,
       "version_minor": 0
      },
      "text/plain": [
       "Training:   0%|          | 0/182 [00:00<?, ?it/s]"
      ]
     },
     "metadata": {},
     "output_type": "display_data"
    },
    {
     "data": {
      "application/vnd.jupyter.widget-view+json": {
       "model_id": "4d5f84540c3a4322a77fde9d2146e3cd",
       "version_major": 2,
       "version_minor": 0
      },
      "text/plain": [
       "Evaluating:   0%|          | 0/46 [00:00<?, ?it/s]"
      ]
     },
     "metadata": {},
     "output_type": "display_data"
    },
    {
     "name": "stdout",
     "output_type": "stream",
     "text": [
      "Train Loss: 6.7716, Train Acc: 0.34%\n",
      "Val Loss: 9.1864, Val Acc: 0.48%\n"
     ]
    },
    {
     "data": {
      "image/png": "[encoded data removed]",
      "text/plain": [
       "<Figure size 1200x600 with 2 Axes>"
      ]
     },
     "metadata": {},
     "output_type": "display_data"
    }
   ],
   "source": [
    "import matplotlib.pyplot as plt\n",
    "from torch.utils.data import DataLoader\n",
    "\n",
    "# Случайное сэмплирование (обучение с случайным сэмплированием)\n",
    "def train_random_sampling():\n",
    "    random_train_losses, random_val_losses = [], []\n",
    "    random_train_accs, random_val_accs = [], []\n",
    "    \n",
    "    for epoch in range(epochs):\n",
    "        print(f\"\\nRandom Sampling Epoch {epoch+1}/{epochs}\")\n",
    "        train_loss, train_acc = train_epoch(model, train_loader, optimizer, criterion, device)\n",
    "        val_loss, val_acc = evaluate(model, val_loader, criterion, device)\n",
    "        random_train_losses.append(train_loss)\n",
    "        random_train_accs.append(train_acc)\n",
    "        random_val_losses.append(val_loss)\n",
    "        random_val_accs.append(val_acc)\n",
    "        print(f\"Train Loss: {train_loss:.4f}, Train Acc: {train_acc:.2f}%\")\n",
    "        print(f\"Val Loss: {val_loss:.4f}, Val Acc: {val_acc:.2f}%\")\n",
    "    \n",
    "    return random_train_losses, random_val_losses, random_train_accs, random_val_accs\n",
    "\n",
    "# Curriculum learning (обучение с curriculum learning)\n",
    "def train_curriculum_learning():\n",
    "    # Используем измененный порядок данных\n",
    "    curriculum_train_loader = DataLoader(train_dataset, batch_size=32, shuffle=False, collate_fn=collate_batch)\n",
    "    \n",
    "    curriculum_train_losses, curriculum_val_losses = [], []\n",
    "    curriculum_train_accs, curriculum_val_accs = [], []\n",
    "    \n",
    "    for epoch in range(epochs):\n",
    "        print(f\"\\nCurriculum Learning Epoch {epoch+1}/{epochs}\")\n",
    "        train_loss, train_acc = train_epoch(model, curriculum_train_loader, optimizer, criterion, device)\n",
    "        val_loss, val_acc = evaluate(model, val_loader, criterion, device)\n",
    "        curriculum_train_losses.append(train_loss)\n",
    "        curriculum_train_accs.append(train_acc)\n",
    "        curriculum_val_losses.append(val_loss)\n",
    "        curriculum_val_accs.append(val_acc)\n",
    "        print(f\"Train Loss: {train_loss:.4f}, Train Acc: {train_acc:.2f}%\")\n",
    "        print(f\"Val Loss: {val_loss:.4f}, Val Acc: {val_acc:.2f}%\")\n",
    "    \n",
    "    return curriculum_train_losses, curriculum_val_losses, curriculum_train_accs, curriculum_val_accs\n",
    "\n",
    "# Запуск экспериментов\n",
    "random_train_losses, random_val_losses, random_train_accs, random_val_accs = train_random_sampling()\n",
    "curriculum_train_losses, curriculum_val_losses, curriculum_train_accs, curriculum_val_accs = train_curriculum_learning()\n",
    "\n",
    "# Визуализация потерь\n",
    "plt.figure(figsize=(12, 6))\n",
    "plt.subplot(121)\n",
    "plt.plot(range(1, epochs+1), random_train_losses, label='Random Train Loss')\n",
    "plt.plot(range(1, epochs+1), random_val_losses, label='Random Val Loss')\n",
    "plt.plot(range(1, epochs+1), curriculum_train_losses, label='Curriculum Train Loss')\n",
    "plt.plot(range(1, epochs+1), curriculum_val_losses, label='Curriculum Val Loss')\n",
    "plt.xlabel('Epochs')\n",
    "plt.ylabel('Loss')\n",
    "plt.legend()\n",
    "plt.title('Loss Comparison')\n",
    "\n",
    "# Визуализация точности\n",
    "plt.subplot(122)\n",
    "plt.plot(range(1, epochs+1), random_train_accs, label='Random Train Accuracy')\n",
    "plt.plot(range(1, epochs+1), random_val_accs, label='Random Val Accuracy')\n",
    "plt.plot(range(1, epochs+1), curriculum_train_accs, label='Curriculum Train Accuracy')\n",
    "plt.plot(range(1, epochs+1), curriculum_val_accs, label='Curriculum Val Accuracy')\n",
    "plt.xlabel('Epochs')\n",
    "plt.ylabel('Accuracy (%)')\n",
    "plt.legend()\n",
    "plt.title('Accuracy Comparison')\n",
    "\n",
    "plt.show()\n"
   ]
  }
 ],
 "metadata": {
  "kernelspec": {
   "display_name": "base",
   "language": "python",
   "name": "python3"
  },
  "language_info": {
   "codemirror_mode": {
    "name": "ipython",
    "version": 3
   },
   "file_extension": ".py",
   "mimetype": "text/x-python",
   "name": "python",
   "nbconvert_exporter": "python",
   "pygments_lexer": "ipython3",
   "version": "3.9.13"
  }
 },
 "nbformat": 4,
 "nbformat_minor": 2
}
